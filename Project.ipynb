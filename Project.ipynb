{
 "cells": [
  {
   "cell_type": "code",
   "execution_count": 1,
   "metadata": {},
   "outputs": [],
   "source": [
    "import talib\n",
    "from pandas import DataFrame, read_csv, concat\n",
    "from keras.models import Sequential\n",
    "from keras.layers import Dense, Dropout, LSTM, Bidirectional, GRU\n",
    "from keras.callbacks import EarlyStopping,Callback\n",
    "from keras import backend\n",
    "from sklearn.preprocessing import MinMaxScaler\n",
    "from matplotlib import pyplot as plt\n",
    "import numpy as np"
   ]
  },
  {
   "cell_type": "code",
   "execution_count": 2,
   "metadata": {},
   "outputs": [],
   "source": [
    "data = read_csv('BTCHourlyData.csv', parse_dates = ['timestamp'], usecols = ['timestamp', 'c']).fillna(method='ffill')"
   ]
  },
  {
   "cell_type": "code",
   "execution_count": 3,
   "metadata": {},
   "outputs": [],
   "source": [
    "sma = talib.SMA(data['c'], timeperiod = 5)\n",
    "ema = talib.EMA(data['c'], timeperiod = 5)\n",
    "macd = talib.MACD(data['c'])[0]\n",
    "rsi = talib.RSI(data['c'])\n",
    "mom = talib.MOM(data['c'], timeperiod = 9)\n",
    "y = data['c'][33:]"
   ]
  },
  {
   "cell_type": "code",
   "execution_count": 4,
   "metadata": {},
   "outputs": [],
   "source": [
    "def series_to_supervised(data, n_in=1, n_out=1, dropnan=True):\n",
    "\t\"\"\"\n",
    "\tFrame a time series as a supervised learning dataset.\n",
    "\tArguments:\n",
    "\t\tdata: Sequence of observations as a list or NumPy array.\n",
    "\t\tn_in: Number of lag observations as input (X).\n",
    "\t\tn_out: Number of observations as output (y).\n",
    "\t\tdropnan: Boolean whether or not to drop rows with NaN values.\n",
    "\tReturns:\n",
    "\t\tPandas DataFrame of series framed for supervised learning.\n",
    "\t\"\"\"\n",
    "\tn_vars = 1 if type(data) is list else data.shape[1]\n",
    "\tdf = DataFrame(data)\n",
    "\tcols, names = list(), list()\n",
    "\t# input sequence (t-n, ... t-1)\n",
    "\tfor i in range(n_in, 0, -1):\n",
    "\t\tcols.append(df.shift(i))\n",
    "\t\tnames += [('var%d(t-%d)' % (j+1, i)) for j in range(n_vars)]\n",
    "\t# forecast sequence (t, t+1, ... t+n)\n",
    "\tfor i in range(0, n_out):\n",
    "\t\tcols.append(df.shift(-i))\n",
    "\t\tif i == 0:\n",
    "\t\t\tnames += [('var%d(t)' % (j+1)) for j in range(n_vars)]\n",
    "\t\telse:\n",
    "\t\t\tnames += [('var%d(t+%d)' % (j+1, i)) for j in range(n_vars)]\n",
    "\t# put it all together\n",
    "\tagg = concat(cols, axis=1)\n",
    "\tagg.columns = names\n",
    "\t# drop rows with NaN values\n",
    "\tif dropnan:\n",
    "\t\tagg.dropna(inplace=True)\n",
    "\treturn agg"
   ]
  },
  {
   "cell_type": "code",
   "execution_count": 5,
   "metadata": {},
   "outputs": [],
   "source": [
    "class EarlyStoppingByLossVal(Callback):\n",
    "    def __init__(self, monitor='val_mape', value=1, verbose=0):\n",
    "        super(Callback, self).__init__()\n",
    "        self.monitor = monitor\n",
    "        self.value = value\n",
    "        self.verbose = verbose\n",
    "\n",
    "    def on_epoch_end(self, epoch, logs={}):\n",
    "        current = logs.get(self.monitor)\n",
    "        if current is None:\n",
    "            warnings.warn(\"Early stopping requires %s available!\" % self.monitor, RuntimeWarning)        \n",
    "            \n",
    "        if epoch>5:\n",
    "            if self.verbose > 0:\n",
    "                print(\"Epoch %05d: early stopping THR\" % epoch)\n",
    "            if current < self.value:                \n",
    "                self.model.stop_training = True"
   ]
  },
  {
   "cell_type": "code",
   "execution_count": 6,
   "metadata": {},
   "outputs": [],
   "source": [
    "features = DataFrame()\n",
    "features['sma'] = sma[33:]\n",
    "features['ema'] = ema[33:]\n",
    "features['macd'] = macd[33:]\n",
    "features['rsi'] = rsi[33:]\n",
    "features['mom'] = mom[33:]\n",
    "features['y'] = y"
   ]
  },
  {
   "cell_type": "code",
   "execution_count": 7,
   "metadata": {},
   "outputs": [],
   "source": [
    "scaler = MinMaxScaler(feature_range = (0,1))\n",
    "scaler = scaler.fit(features)\n",
    "scaled = scaler.fit_transform(features)"
   ]
  },
  {
   "cell_type": "code",
   "execution_count": 92,
   "metadata": {},
   "outputs": [],
   "source": [
    "n = 1\n",
    "series = series_to_supervised(scaled, n, n+1)\n",
    "dropColumns = []\n",
    "for i in range(scaled.shape[1]-1):\n",
    "    dropColumns.append('var{}(t+{})'.format(i+1,n))\n",
    "reframed = series.drop(columns=dropColumns)"
   ]
  },
  {
   "cell_type": "code",
   "execution_count": 137,
   "metadata": {},
   "outputs": [],
   "source": [
    "split = int(0.7*reframed.shape[0])\n",
    "train_X, test_X = reframed.values[:split,:-1], reframed.values[split:,:-1]\n",
    "train_y, test_y = reframed.values[:split,-1], reframed.values[split:,-1]\n",
    "#Reshaping input to be 3 dimensions (samples, timesteps, features)\n",
    "train_X = train_X.reshape((train_X.shape[0], 1, train_X.shape[1]))\n",
    "test_X = test_X.reshape((test_X.shape[0], 1, test_X.shape[1]))"
   ]
  },
  {
   "cell_type": "code",
   "execution_count": 148,
   "metadata": {},
   "outputs": [
    {
     "name": "stdout",
     "output_type": "stream",
     "text": [
      "Epoch 1/50\n",
      "134/134 - 3s - loss: 2.5098e-04 - mape: 0.6262 - val_loss: 0.0237 - val_mape: 10.3809\n",
      "Epoch 2/50\n",
      "134/134 - 1s - loss: 8.7186e-04 - mape: 1.5897 - val_loss: 0.0185 - val_mape: 10.2194\n",
      "Epoch 3/50\n",
      "134/134 - 1s - loss: 0.0010 - mape: 1.7582 - val_loss: 0.0105 - val_mape: 7.0417\n",
      "Epoch 4/50\n",
      "134/134 - 1s - loss: 5.6179e-04 - mape: 1.2900 - val_loss: 0.0035 - val_mape: 4.2958\n",
      "Epoch 5/50\n",
      "134/134 - 1s - loss: 2.2241e-04 - mape: 0.8097 - val_loss: 5.9064e-04 - val_mape: 2.0355\n",
      "Epoch 6/50\n",
      "134/134 - 1s - loss: 6.2626e-05 - mape: 0.4239 - val_loss: 8.4608e-05 - val_mape: 0.8033\n",
      "Epoch 7/50\n",
      "134/134 - 1s - loss: 1.3426e-05 - mape: 0.1945 - val_loss: 8.8589e-05 - val_mape: 0.5964\n",
      "Epoch 00006: early stopping THR\n",
      "Epoch 8/50\n",
      "134/134 - 1s - loss: 3.9937e-06 - mape: 0.1084 - val_loss: 1.0311e-04 - val_mape: 0.5302\n",
      "Epoch 00007: early stopping THR\n",
      "Epoch 9/50\n",
      "134/134 - 1s - loss: 2.3497e-06 - mape: 0.0831 - val_loss: 9.8518e-05 - val_mape: 0.4918\n",
      "Epoch 00008: early stopping THR\n",
      "Epoch 10/50\n",
      "134/134 - 1s - loss: 2.0340e-06 - mape: 0.0773 - val_loss: 8.7684e-05 - val_mape: 0.4631\n",
      "Epoch 00009: early stopping THR\n",
      "Epoch 11/50\n",
      "134/134 - 1s - loss: 2.0368e-06 - mape: 0.0782 - val_loss: 7.6516e-05 - val_mape: 0.4405\n",
      "Epoch 00010: early stopping THR\n",
      "Epoch 12/50\n",
      "134/134 - 1s - loss: 2.1592e-06 - mape: 0.0816 - val_loss: 6.6309e-05 - val_mape: 0.4220\n",
      "Epoch 00011: early stopping THR\n",
      "Epoch 13/50\n",
      "134/134 - 1s - loss: 2.3660e-06 - mape: 0.0868 - val_loss: 5.6985e-05 - val_mape: 0.4064\n",
      "Epoch 00012: early stopping THR\n",
      "Epoch 14/50\n",
      "134/134 - 1s - loss: 2.6903e-06 - mape: 0.0936 - val_loss: 4.9042e-05 - val_mape: 0.3964\n",
      "Epoch 00013: early stopping THR\n"
     ]
    }
   ],
   "source": [
    "#Cocco et al. (2021) model\n",
    "model = Sequential()\n",
    "model.add(LSTM(64, input_shape=(train_X.shape[1], train_X.shape[2])))\n",
    "model.add(Dense(1))\n",
    "backend.set_epsilon(1)\n",
    "model.compile(loss='mse', optimizer='adam', metrics=['mape'])\n",
    "callbacks = [EarlyStoppingByLossVal(monitor='val_mape', value=0.4, verbose=2)]\n",
    "history = model.fit(train_X, train_y, epochs = 50, batch_size = 512, validation_data=(test_X, test_y), verbose = 2, shuffle = False, callbacks=  callbacks)"
   ]
  },
  {
   "cell_type": "code",
   "execution_count": 149,
   "metadata": {},
   "outputs": [],
   "source": [
    "model_prediction = model.predict(test_X)\n",
    "actualValues = np.array(y[-len(model_prediction):]).reshape(-1,1)\n",
    "scalerCrypto = MinMaxScaler(feature_range = (0,1))\n",
    "scalerCrypto = scalerCrypto.fit(actualValues)\n",
    "scaledCrypto = scalerCrypto.fit_transform(actualValues)\n",
    "model_prediction_unscale = scalerCrypto.inverse_transform(model_prediction)\n",
    "predictedValues = np.reshape(model_prediction_unscale, model_prediction_unscale.shape[0])\n",
    "actualValues = np.reshape(actualValues, actualValues.shape[0])"
   ]
  },
  {
   "cell_type": "code",
   "execution_count": 150,
   "metadata": {},
   "outputs": [
    {
     "data": {
      "image/png": "[encoded data removed]",
      "text/plain": [
       "<Figure size 432x288 with 1 Axes>"
      ]
     },
     "metadata": {
      "needs_background": "light"
     },
     "output_type": "display_data"
    }
   ],
   "source": [
    "frm=-50\n",
    "plt.plot(actualValues[frm:], color = 'red', label = 'Actual Value')\n",
    "plt.plot(predictedValues[frm:], color = 'blue', label = 'Predicted Value') \n",
    "plt.title('Last {} Hours Prediction (t+{} hours)'.format(-frm, n))\n",
    "plt.xlabel('Time Interval (hours)')\n",
    "plt.ylabel('Price')\n",
    "plt.legend()\n",
    "plt.show()"
   ]
  },
  {
   "cell_type": "code",
   "execution_count": 151,
   "metadata": {},
   "outputs": [
    {
     "data": {
      "image/png": "[encoded data removed]",
      "text/plain": [
       "<Figure size 432x288 with 1 Axes>"
      ]
     },
     "metadata": {
      "needs_background": "light"
     },
     "output_type": "display_data"
    }
   ],
   "source": [
    "plt.plot(actualValues, color = 'red', label = 'Actual Value')\n",
    "plt.plot(predictedValues, color = 'blue', label = 'Predicted Value')\n",
    "plt.title('Prediction (t+{} hours)'.format(n))\n",
    "plt.xlabel('Time Interval (hours)')\n",
    "plt.ylabel('Price')\n",
    "plt.legend()\n",
    "plt.show()"
   ]
  },
  {
   "cell_type": "code",
   "execution_count": 152,
   "metadata": {},
   "outputs": [
    {
     "data": {
      "image/png": "[encoded data removed]",
      "text/plain": [
       "<Figure size 432x288 with 1 Axes>"
      ]
     },
     "metadata": {
      "needs_background": "light"
     },
     "output_type": "display_data"
    },
    {
     "name": "stdout",
     "output_type": "stream",
     "text": [
      "Best MAPE = 0.3963572084903717\n"
     ]
    }
   ],
   "source": [
    "plt.title('MAPE (t+{} hours)'.format(n))\n",
    "plt.plot(history.history['mape'], label='train')\n",
    "plt.plot(history.history['val_mape'], label='test')\n",
    "plt.scatter(np.argmin(history.history['val_mape']), min(history.history['val_mape']), color = 'r')\n",
    "plt.legend()\n",
    "plt.show()\n",
    "print('Best MAPE = '+str(min((history.history['val_mape']))))"
   ]
  },
  {
   "cell_type": "code",
   "execution_count": 153,
   "metadata": {},
   "outputs": [
    {
     "data": {
      "image/png": "[encoded data removed]",
      "text/plain": [
       "<Figure size 432x288 with 1 Axes>"
      ]
     },
     "metadata": {
      "needs_background": "light"
     },
     "output_type": "display_data"
    }
   ],
   "source": [
    "plt.title('Loss (t+{} hours)'.format(n))\n",
    "plt.plot(history.history['loss'], label='train')\n",
    "plt.plot(history.history['val_loss'], label='test')\n",
    "plt.legend()\n",
    "plt.show()"
   ]
  },
  {
   "cell_type": "code",
   "execution_count": 154,
   "metadata": {},
   "outputs": [
    {
     "name": "stdout",
     "output_type": "stream",
     "text": [
      "Analyzer 2 - Percent:  0\n",
      "------------\n",
      "LONG VALUES\n",
      "correct_long 7472\n",
      "incorrect_short 7503\n",
      "correct_long_percentage 49.9\n",
      "\n",
      "SHORT VALUES\n",
      "correct_short 6369\n",
      "incorrect_long 7842\n",
      "correct_short_percentage 44.82\n",
      "\n",
      "TOTAL\n",
      "total_correct 13841\n",
      "total_incorrect 15345\n",
      "correct_total_percentage 47.42\n",
      "profit_tracker 31169.75\n",
      "\n",
      "########################################################\n",
      "\n",
      "Analyzer 2 - Percent:  1\n",
      "------------\n",
      "LONG VALUES\n",
      "correct_long 65\n",
      "incorrect_short 87\n",
      "correct_long_percentage 42.76\n",
      "\n",
      "SHORT VALUES\n",
      "correct_short 68\n",
      "incorrect_long 52\n",
      "correct_short_percentage 56.67\n",
      "\n",
      "TOTAL\n",
      "total_correct 133\n",
      "total_incorrect 139\n",
      "correct_total_percentage 48.9\n",
      "profit_tracker -1216.77\n",
      "\n",
      "########################################################\n",
      "\n",
      "Analyzer 2 - Percent:  2\n",
      "------------\n",
      "LONG VALUES\n",
      "correct_long 0\n",
      "incorrect_short 6\n",
      "correct_long_percentage 0.0\n",
      "\n",
      "SHORT VALUES\n",
      "correct_short 8\n",
      "incorrect_long 1\n",
      "correct_short_percentage 88.89\n",
      "\n",
      "TOTAL\n",
      "total_correct 8\n",
      "total_incorrect 7\n",
      "correct_total_percentage 53.33\n",
      "profit_tracker -1105.92\n",
      "\n",
      "########################################################\n",
      "\n"
     ]
    }
   ],
   "source": [
    "result_value=[]\n",
    "\n",
    "for n_percent in range(3):\n",
    "    actual_delta = []\n",
    "    predicted_delta = []\n",
    "    correct_long = 0\n",
    "    incorrect_long = 0\n",
    "    correct_short = 0\n",
    "    incorrect_short = 0\n",
    "    profit = []\n",
    "    profit_agg = 0\n",
    "    \n",
    "    for i in range(2, len(actualValues) - 4):\n",
    "        a_delta = (actualValues[i + 1] - actualValues[i]) / actualValues[i + 1]\n",
    "        p_delta = (predictedValues[i + 1] - predictedValues[i]) / predictedValues[i + 1]\n",
    "\n",
    "        if p_delta > 0 and a_delta > 0 and abs(p_delta)*100>n_percent:\n",
    "            correct_long += 1\n",
    "            profits = 10000 * abs(a_delta)\n",
    "            profit.append(profits)\n",
    "            profit_agg += profits\n",
    "\n",
    "        if p_delta > 0 > a_delta and abs(p_delta)*100>n_percent:\n",
    "            incorrect_long += 1\n",
    "            profits = -10000 * abs(a_delta)\n",
    "            profit.append(profits)\n",
    "            profit_agg += profits\n",
    "\n",
    "        if p_delta < 0 and a_delta < 0 and abs(p_delta)*100>n_percent:\n",
    "            correct_short += 1\n",
    "            profits = 10000 * abs(a_delta)\n",
    "            profit.append(profits)\n",
    "            profit_agg += profits\n",
    "\n",
    "        if p_delta < 0 < a_delta and abs(p_delta)*100>n_percent:\n",
    "            incorrect_short += 1\n",
    "            profits = -10000 * abs(a_delta)\n",
    "            profit.append(profits)\n",
    "            profit_agg += profits\n",
    "            \n",
    "    long_p=correct_long/(correct_long+incorrect_short)*100\n",
    "    short_p=correct_short/(correct_short+incorrect_long)*100\n",
    "    total_correct= (correct_long+correct_short)/(correct_long+incorrect_long+correct_short+incorrect_short)*100\n",
    "    print('Analyzer 2 - Percent: ',n_percent)\n",
    "    print(\"------------\")\n",
    "    print('LONG VALUES')\n",
    "    print('correct_long', correct_long)\n",
    "    print('incorrect_short', incorrect_short)\n",
    "    print('correct_long_percentage', round(long_p,2))\n",
    "    print('')\n",
    "    print('SHORT VALUES')\n",
    "    print('correct_short', correct_short)\n",
    "    print('incorrect_long', incorrect_long)\n",
    "    print('correct_short_percentage', round(short_p,2))\n",
    "    print('')\n",
    "    print('TOTAL')\n",
    "    print('total_correct',correct_short+correct_long)\n",
    "    print('total_incorrect',incorrect_long+incorrect_short )\n",
    "    print('correct_total_percentage', round(total_correct,2))\n",
    "    print('profit_tracker', round(profit_agg,2))\n",
    "    print()\n",
    "    print('########################################################')\n",
    "    print()\n",
    "        \n",
    "    st='LONG VALUES\\n\\ncorrect_long: {}\\nincorrect_short: {}\\ncorrect_long_percentage: {}\\n\\nSHORT VALUES\\n\\ncorrect_short: {}\\nincorrect_long: {}\\ncorrect_short_percentage: {}\\n\\nTOTAL\\n\\ntotal_correct: {}\\ntotal_incorrect: {}\\ncorrect_total_percentage: {}\\nprofit_tracker: {}'.format(correct_long,incorrect_short,long_p,correct_short,incorrect_long,short_p,correct_short+correct_long,incorrect_long+incorrect_short,total_correct,profit_agg)\n",
    "    result_value.append(st)"
   ]
  },
  {
   "cell_type": "code",
   "execution_count": 155,
   "metadata": {},
   "outputs": [
    {
     "name": "stdout",
     "output_type": "stream",
     "text": [
      "Saved BTCt+1_model.h5 to disk\n"
     ]
    }
   ],
   "source": [
    "model_json = model.to_json()\n",
    "with open('BTCt+1_model.json', 'w') as json_file:\n",
    "    json_file.write(model_json)\n",
    "model.save_weights('BTCt+1_model.h5')\n",
    "print('Saved BTCt+1_model.h5 to disk')"
   ]
  }
 ],
 "metadata": {
  "kernelspec": {
   "display_name": "Python 3",
   "language": "python",
   "name": "python3"
  },
  "language_info": {
   "codemirror_mode": {
    "name": "ipython",
    "version": 3
   },
   "file_extension": ".py",
   "mimetype": "text/x-python",
   "name": "python",
   "nbconvert_exporter": "python",
   "pygments_lexer": "ipython3",
   "version": "3.7.1"
  }
 },
 "nbformat": 4,
 "nbformat_minor": 2
}
