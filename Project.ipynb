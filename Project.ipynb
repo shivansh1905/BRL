{
 "cells": [
  {
   "cell_type": "code",
   "execution_count": 1,
   "metadata": {},
   "outputs": [],
   "source": [
    "import talib\n",
    "from pandas import DataFrame, read_csv, concat\n",
    "from keras.models import Sequential\n",
    "from keras.layers import Dense, Dropout, LSTM, Bidirectional, GRU\n",
    "from keras.callbacks import EarlyStopping,Callback\n",
    "from keras import backend\n",
    "from sklearn.preprocessing import MinMaxScaler\n",
    "from matplotlib import pyplot as plt\n",
    "import numpy as np"
   ]
  },
  {
   "cell_type": "code",
   "execution_count": 2,
   "metadata": {},
   "outputs": [],
   "source": [
    "data = read_csv('btc_hourly.csv', parse_dates = ['timestamp'], usecols = ['timestamp', 'c']).fillna(method='ffill')"
   ]
  },
  {
   "cell_type": "code",
   "execution_count": 3,
   "metadata": {},
   "outputs": [],
   "source": [
    "sma = talib.SMA(data['c'], timeperiod = 5)\n",
    "ema = talib.EMA(data['c'], timeperiod = 5)\n",
    "macd = talib.MACD(data['c'])[0]\n",
    "rsi = talib.RSI(data['c'])\n",
    "mom = talib.MOM(data['c'], timeperiod = 9)\n",
    "y = data['c'][33:]"
   ]
  },
  {
   "cell_type": "code",
   "execution_count": 4,
   "metadata": {},
   "outputs": [],
   "source": [
    "def series_to_supervised(data, n_in=1, n_out=1, dropnan=True):\n",
    "\t\"\"\"\n",
    "\tFrame a time series as a supervised learning dataset.\n",
    "\tArguments:\n",
    "\t\tdata: Sequence of observations as a list or NumPy array.\n",
    "\t\tn_in: Number of lag observations as input (X).\n",
    "\t\tn_out: Number of observations as output (y).\n",
    "\t\tdropnan: Boolean whether or not to drop rows with NaN values.\n",
    "\tReturns:\n",
    "\t\tPandas DataFrame of series framed for supervised learning.\n",
    "\t\"\"\"\n",
    "\tn_vars = 1 if type(data) is list else data.shape[1]\n",
    "\tdf = DataFrame(data)\n",
    "\tcols, names = list(), list()\n",
    "\t# input sequence (t-n, ... t-1)\n",
    "\tfor i in range(n_in, 0, -1):\n",
    "\t\tcols.append(df.shift(i))\n",
    "\t\tnames += [('var%d(t-%d)' % (j+1, i)) for j in range(n_vars)]\n",
    "\t# forecast sequence (t, t+1, ... t+n)\n",
    "\tfor i in range(0, n_out):\n",
    "\t\tcols.append(df.shift(-i))\n",
    "\t\tif i == 0:\n",
    "\t\t\tnames += [('var%d(t)' % (j+1)) for j in range(n_vars)]\n",
    "\t\telse:\n",
    "\t\t\tnames += [('var%d(t+%d)' % (j+1, i)) for j in range(n_vars)]\n",
    "\t# put it all together\n",
    "\tagg = concat(cols, axis=1)\n",
    "\tagg.columns = names\n",
    "\t# drop rows with NaN values\n",
    "\tif dropnan:\n",
    "\t\tagg.dropna(inplace=True)\n",
    "\treturn agg"
   ]
  },
  {
   "cell_type": "code",
   "execution_count": 5,
   "metadata": {},
   "outputs": [],
   "source": [
    "class EarlyStoppingByLossVal(Callback):\n",
    "    def __init__(self, monitor='val_mape', value=1, verbose=0):\n",
    "        super(Callback, self).__init__()\n",
    "        self.monitor = monitor\n",
    "        self.value = value\n",
    "        self.verbose = verbose\n",
    "\n",
    "    def on_epoch_end(self, epoch, logs={}):\n",
    "        current = logs.get(self.monitor)\n",
    "        if current is None:\n",
    "            warnings.warn(\"Early stopping requires %s available!\" % self.monitor, RuntimeWarning)        \n",
    "            \n",
    "        if epoch>5:\n",
    "            if self.verbose > 0:\n",
    "                print(\"Epoch %05d: early stopping THR\" % epoch)\n",
    "            if current < self.value:                \n",
    "                self.model.stop_training = True"
   ]
  },
  {
   "cell_type": "code",
   "execution_count": 6,
   "metadata": {},
   "outputs": [],
   "source": [
    "features = DataFrame()\n",
    "features['sma'] = sma[33:]\n",
    "features['ema'] = ema[33:]\n",
    "features['macd'] = macd[33:]\n",
    "features['rsi'] = rsi[33:]\n",
    "features['mom'] = mom[33:]\n",
    "features['y'] = y"
   ]
  },
  {
   "cell_type": "code",
   "execution_count": 24,
   "metadata": {},
   "outputs": [],
   "source": [
    "n = 1\n",
    "split = int(0.7*(features.shape[0]-n))\n",
    "train_raw = features[:split]\n",
    "test_raw = features[split:]"
   ]
  },
  {
   "cell_type": "code",
   "execution_count": 25,
   "metadata": {},
   "outputs": [],
   "source": [
    "train_scaler = MinMaxScaler(feature_range = (0,1))\n",
    "train_scaler = train_scaler.fit(train_raw)\n",
    "train = train_scaler.fit_transform(train_raw)"
   ]
  },
  {
   "cell_type": "code",
   "execution_count": 26,
   "metadata": {},
   "outputs": [],
   "source": [
    "test_scaler = MinMaxScaler(feature_range = (0,1))\n",
    "test_scaler = test_scaler.fit(test_raw)\n",
    "test = test_scaler.fit_transform(test_raw)"
   ]
  },
  {
   "cell_type": "code",
   "execution_count": 57,
   "metadata": {},
   "outputs": [],
   "source": [
    "train_series = series_to_supervised(train, n+1, n+1)\n",
    "dropColumns = []\n",
    "for i in range(train.shape[1]-1):\n",
    "    dropColumns.append('var{}(t+{})'.format(i+1,n))\n",
    "train_reframed = train_series.drop(columns=dropColumns)\n",
    "\n",
    "test_series = series_to_supervised(test, n+1, n+1)\n",
    "dropColumns = []\n",
    "for i in range(test.shape[1]-1):\n",
    "    dropColumns.append('var{}(t+{})'.format(i+1,n))\n",
    "test_reframed = test_series.drop(columns=dropColumns)"
   ]
  },
  {
   "cell_type": "code",
   "execution_count": 58,
   "metadata": {},
   "outputs": [],
   "source": [
    "train_X, test_X = train_reframed.values[:,:-1], test_reframed.values[:,:-1]\n",
    "train_y, test_y = train_reframed.values[:,-1], test_reframed.values[:,-1]\n",
    "#Reshaping input to be 3 dimensions (samples, timesteps, features)\n",
    "train_X = train_X.reshape((train_X.shape[0], 1, train_X.shape[1]))\n",
    "test_X = test_X.reshape((test_X.shape[0], 1, test_X.shape[1]))"
   ]
  },
  {
   "cell_type": "code",
   "execution_count": 59,
   "metadata": {},
   "outputs": [
    {
     "data": {
      "text/plain": [
       "\"model = Sequential()\\nmodel.add(Bidirectional(GRU(32, activation='relu', return_sequences=True, input_shape=(train_X.shape[1], train_X.shape[2]))))\\nmodel.add(LSTM(32, activation='tanh')) \\nmodel.add(Dropout(0.1))\\nmodel.add(Dense(1))\\nbackend.set_epsilon(1)\\nmodel.compile(optimizer='adam', loss='mse', metrics=['mape'])\\ncallbacks = [EarlyStoppingByLossVal(monitor='val_mape', value=0.6, verbose=2)]\""
      ]
     },
     "execution_count": 59,
     "metadata": {},
     "output_type": "execute_result"
    }
   ],
   "source": [
    "#BRL model\n",
    "\"\"\"model = Sequential()\n",
    "model.add(Bidirectional(GRU(32, activation='relu', return_sequences=True, input_shape=(train_X.shape[1], train_X.shape[2]))))\n",
    "model.add(LSTM(32, activation='tanh')) \n",
    "model.add(Dropout(0.1))\n",
    "model.add(Dense(1))\n",
    "backend.set_epsilon(1)\n",
    "model.compile(optimizer='adam', loss='mse', metrics=['mape'])\n",
    "callbacks = [EarlyStoppingByLossVal(monitor='val_mape', value=0.6, verbose=2)]\"\"\""
   ]
  },
  {
   "cell_type": "code",
   "execution_count": 62,
   "metadata": {},
   "outputs": [
    {
     "name": "stdout",
     "output_type": "stream",
     "text": [
      "Epoch 1/50\n",
      "41/41 - 2s - loss: 0.0140 - mape: 5.5351 - val_loss: 0.0309 - val_mape: 13.7707\n",
      "Epoch 2/50\n",
      "41/41 - 0s - loss: 0.0164 - mape: 9.1696 - val_loss: 0.0239 - val_mape: 12.4540\n",
      "Epoch 3/50\n",
      "41/41 - 0s - loss: 0.0064 - mape: 5.1231 - val_loss: 0.0100 - val_mape: 7.7542\n",
      "Epoch 4/50\n",
      "41/41 - 0s - loss: 0.0029 - mape: 3.5719 - val_loss: 0.0031 - val_mape: 3.9173\n",
      "Epoch 5/50\n",
      "41/41 - 0s - loss: 8.9073e-04 - mape: 2.0064 - val_loss: 5.0672e-04 - val_mape: 1.1651\n",
      "Epoch 6/50\n",
      "41/41 - 0s - loss: 2.0315e-04 - mape: 0.9578 - val_loss: 4.1124e-04 - val_mape: 1.6371\n",
      "Epoch 7/50\n",
      "41/41 - 0s - loss: 1.4565e-04 - mape: 0.8325 - val_loss: 6.5633e-04 - val_mape: 2.1893\n",
      "Epoch 8/50\n",
      "41/41 - 0s - loss: 1.8586e-04 - mape: 1.0620 - val_loss: 6.6452e-04 - val_mape: 2.1993\n",
      "Epoch 9/50\n",
      "41/41 - 0s - loss: 1.8285e-04 - mape: 1.0616 - val_loss: 6.0292e-04 - val_mape: 2.0814\n",
      "Epoch 10/50\n",
      "41/41 - 0s - loss: 1.6380e-04 - mape: 0.9900 - val_loss: 5.4988e-04 - val_mape: 1.9743\n",
      "Epoch 11/50\n",
      "41/41 - 0s - loss: 1.4599e-04 - mape: 0.9189 - val_loss: 5.0638e-04 - val_mape: 1.8818\n",
      "Epoch 12/50\n",
      "41/41 - 0s - loss: 1.2984e-04 - mape: 0.8522 - val_loss: 4.6846e-04 - val_mape: 1.7975\n",
      "Epoch 13/50\n",
      "41/41 - 0s - loss: 1.1462e-04 - mape: 0.7875 - val_loss: 4.3516e-04 - val_mape: 1.7201\n",
      "Epoch 14/50\n",
      "41/41 - 0s - loss: 1.0048e-04 - mape: 0.7258 - val_loss: 4.0576e-04 - val_mape: 1.6491\n",
      "Epoch 15/50\n",
      "41/41 - 0s - loss: 8.7634e-05 - mape: 0.6671 - val_loss: 3.7954e-04 - val_mape: 1.5833\n",
      "Epoch 16/50\n",
      "41/41 - 0s - loss: 7.6192e-05 - mape: 0.6115 - val_loss: 3.5587e-04 - val_mape: 1.5217\n",
      "Epoch 17/50\n",
      "41/41 - 0s - loss: 6.6186e-05 - mape: 0.5589 - val_loss: 3.3425e-04 - val_mape: 1.4634\n",
      "Epoch 18/50\n",
      "41/41 - 0s - loss: 5.7579e-05 - mape: 0.5093 - val_loss: 3.1430e-04 - val_mape: 1.4078\n",
      "Epoch 19/50\n",
      "41/41 - 0s - loss: 5.0283e-05 - mape: 0.4625 - val_loss: 2.9570e-04 - val_mape: 1.3541\n",
      "Epoch 20/50\n",
      "41/41 - 0s - loss: 4.4174e-05 - mape: 0.4189 - val_loss: 2.7826e-04 - val_mape: 1.3021\n",
      "Epoch 21/50\n",
      "41/41 - 0s - loss: 3.9110e-05 - mape: 0.3786 - val_loss: 2.6182e-04 - val_mape: 1.2515\n",
      "Epoch 22/50\n",
      "41/41 - 0s - loss: 3.4946e-05 - mape: 0.3417 - val_loss: 2.4631e-04 - val_mape: 1.2022\n",
      "Epoch 23/50\n",
      "41/41 - 0s - loss: 3.1538e-05 - mape: 0.3086 - val_loss: 2.3169e-04 - val_mape: 1.1542\n",
      "Epoch 24/50\n",
      "41/41 - 0s - loss: 2.8760e-05 - mape: 0.2795 - val_loss: 2.1794e-04 - val_mape: 1.1075\n",
      "Epoch 25/50\n",
      "41/41 - 0s - loss: 2.6498e-05 - mape: 0.2551 - val_loss: 2.0506e-04 - val_mape: 1.0624\n",
      "Epoch 26/50\n",
      "41/41 - 0s - loss: 2.4658e-05 - mape: 0.2358 - val_loss: 1.9307e-04 - val_mape: 1.0191\n",
      "Epoch 27/50\n",
      "41/41 - 0s - loss: 2.3162e-05 - mape: 0.2217 - val_loss: 1.8196e-04 - val_mape: 0.9779\n",
      "Epoch 28/50\n",
      "41/41 - 0s - loss: 2.1947e-05 - mape: 0.2125 - val_loss: 1.7173e-04 - val_mape: 0.9388\n",
      "Epoch 29/50\n",
      "41/41 - 0s - loss: 2.0960e-05 - mape: 0.2075 - val_loss: 1.6236e-04 - val_mape: 0.9023\n",
      "Epoch 30/50\n",
      "41/41 - 0s - loss: 2.0161e-05 - mape: 0.2058 - val_loss: 1.5383e-04 - val_mape: 0.8684\n",
      "Epoch 31/50\n",
      "41/41 - 0s - loss: 1.9518e-05 - mape: 0.2061 - val_loss: 1.4611e-04 - val_mape: 0.8373\n",
      "Epoch 32/50\n",
      "41/41 - 0s - loss: 1.9003e-05 - mape: 0.2079 - val_loss: 1.3916e-04 - val_mape: 0.8092\n",
      "Epoch 33/50\n",
      "41/41 - 0s - loss: 1.8596e-05 - mape: 0.2109 - val_loss: 1.3293e-04 - val_mape: 0.7840\n",
      "Epoch 34/50\n",
      "41/41 - 0s - loss: 1.8279e-05 - mape: 0.2145 - val_loss: 1.2736e-04 - val_mape: 0.7615\n",
      "Epoch 35/50\n",
      "41/41 - 0s - loss: 1.8036e-05 - mape: 0.2187 - val_loss: 1.2241e-04 - val_mape: 0.7417\n",
      "Epoch 36/50\n",
      "41/41 - 0s - loss: 1.7855e-05 - mape: 0.2233 - val_loss: 1.1802e-04 - val_mape: 0.7242\n",
      "Epoch 37/50\n",
      "41/41 - 0s - loss: 1.7727e-05 - mape: 0.2281 - val_loss: 1.1413e-04 - val_mape: 0.7088\n",
      "Epoch 38/50\n",
      "41/41 - 0s - loss: 1.7641e-05 - mape: 0.2331 - val_loss: 1.1069e-04 - val_mape: 0.6952\n",
      "Epoch 39/50\n",
      "41/41 - 0s - loss: 1.7591e-05 - mape: 0.2382 - val_loss: 1.0765e-04 - val_mape: 0.6833\n",
      "Epoch 40/50\n",
      "41/41 - 0s - loss: 1.7569e-05 - mape: 0.2433 - val_loss: 1.0497e-04 - val_mape: 0.6728\n",
      "Epoch 41/50\n",
      "41/41 - 0s - loss: 1.7571e-05 - mape: 0.2483 - val_loss: 1.0260e-04 - val_mape: 0.6635\n",
      "Epoch 42/50\n",
      "41/41 - 0s - loss: 1.7590e-05 - mape: 0.2532 - val_loss: 1.0051e-04 - val_mape: 0.6553\n",
      "Epoch 43/50\n",
      "41/41 - 0s - loss: 1.7627e-05 - mape: 0.2579 - val_loss: 9.8664e-05 - val_mape: 0.6480\n",
      "Epoch 44/50\n",
      "41/41 - 0s - loss: 1.7671e-05 - mape: 0.2623 - val_loss: 9.7029e-05 - val_mape: 0.6414\n",
      "Epoch 45/50\n",
      "41/41 - 0s - loss: 1.7731e-05 - mape: 0.2667 - val_loss: 9.5585e-05 - val_mape: 0.6356\n",
      "Epoch 46/50\n",
      "41/41 - 0s - loss: 1.7789e-05 - mape: 0.2708 - val_loss: 9.4310e-05 - val_mape: 0.6303\n",
      "Epoch 47/50\n",
      "41/41 - 0s - loss: 1.7874e-05 - mape: 0.2749 - val_loss: 9.3187e-05 - val_mape: 0.6257\n",
      "Epoch 48/50\n",
      "41/41 - 0s - loss: 1.7935e-05 - mape: 0.2786 - val_loss: 9.2214e-05 - val_mape: 0.6213\n",
      "Epoch 49/50\n",
      "41/41 - 0s - loss: 1.8058e-05 - mape: 0.2827 - val_loss: 9.1343e-05 - val_mape: 0.6178\n",
      "Epoch 50/50\n",
      "41/41 - 0s - loss: 1.8100e-05 - mape: 0.2858 - val_loss: 9.0670e-05 - val_mape: 0.6142\n"
     ]
    }
   ],
   "source": [
    "history = model.fit(train_X, train_y, epochs = 50, batch_size = train_X.shape[0]//40, validation_data=(test_X, test_y), verbose = 2, shuffle = False)#, callbacks=  callbacks)"
   ]
  },
  {
   "cell_type": "code",
   "execution_count": 61,
   "metadata": {},
   "outputs": [],
   "source": [
    "#Cocco et al. (2021) model\n",
    "model = Sequential()\n",
    "model.add(LSTM(16, input_shape=(train_X.shape[1], train_X.shape[2])))\n",
    "model.add(Dense(1))\n",
    "backend.set_epsilon(1)\n",
    "model.compile(loss='mse', optimizer='adam', metrics=['mape'])\n",
    "callbacks = [EarlyStoppingByLossVal(monitor='val_mape', value=0.6, verbose=2)]"
   ]
  },
  {
   "cell_type": "code",
   "execution_count": 63,
   "metadata": {},
   "outputs": [],
   "source": [
    "model_prediction = model.predict(test_X)\n",
    "actualValues = np.array(y[-len(model_prediction):]).reshape(-1,1)\n",
    "scalerCrypto = MinMaxScaler(feature_range = (0,1))\n",
    "scalerCrypto = scalerCrypto.fit(actualValues)\n",
    "scaledCrypto = scalerCrypto.fit_transform(actualValues)\n",
    "model_prediction_unscale = scalerCrypto.inverse_transform(model_prediction)\n",
    "predictedValues = np.reshape(model_prediction_unscale, model_prediction_unscale.shape[0])\n",
    "actualValues = np.reshape(actualValues, actualValues.shape[0])"
   ]
  },
  {
   "cell_type": "code",
   "execution_count": 64,
   "metadata": {},
   "outputs": [
    {
     "data": {
      "image/png": "[encoded data removed]",
      "text/plain": [
       "<Figure size 432x288 with 1 Axes>"
      ]
     },
     "metadata": {
      "needs_background": "light"
     },
     "output_type": "display_data"
    }
   ],
   "source": [
    "frm=-50\n",
    "plt.plot(actualValues[frm:], color = 'red', label = 'Actual Value')\n",
    "plt.plot(predictedValues[frm:], color = 'blue', label = 'Predicted Value') \n",
    "plt.title('Last {} Hours Prediction (t+{} hours)'.format(-frm, n))\n",
    "plt.xlabel('Time Interval (hours)')\n",
    "plt.ylabel('Price')\n",
    "plt.legend()\n",
    "plt.show()"
   ]
  },
  {
   "cell_type": "code",
   "execution_count": 65,
   "metadata": {},
   "outputs": [
    {
     "data": {
      "image/png": "[encoded data removed]",
      "text/plain": [
       "<Figure size 432x288 with 1 Axes>"
      ]
     },
     "metadata": {
      "needs_background": "light"
     },
     "output_type": "display_data"
    }
   ],
   "source": [
    "plt.plot(actualValues, color = 'red', label = 'Actual Value')\n",
    "plt.plot(predictedValues, color = 'blue', label = 'Predicted Value')\n",
    "plt.title('Prediction (t+{} hours)'.format(n))\n",
    "plt.xlabel('Time Interval (hours)')\n",
    "plt.ylabel('Price')\n",
    "plt.legend()\n",
    "plt.show()"
   ]
  },
  {
   "cell_type": "code",
   "execution_count": 66,
   "metadata": {},
   "outputs": [
    {
     "data": {
      "image/png": "[encoded data removed]",
      "text/plain": [
       "<Figure size 432x288 with 1 Axes>"
      ]
     },
     "metadata": {
      "needs_background": "light"
     },
     "output_type": "display_data"
    },
    {
     "name": "stdout",
     "output_type": "stream",
     "text": [
      "Best MAPE = 0.6142381429672241\n"
     ]
    }
   ],
   "source": [
    "plt.title('MAPE (t+{} hours)'.format(n))\n",
    "plt.plot(history.history['mape'], label='train')\n",
    "plt.plot(history.history['val_mape'], label='test')\n",
    "plt.scatter(np.argmin(history.history['val_mape']), min(history.history['val_mape']), color = 'r')\n",
    "plt.legend()\n",
    "plt.show()\n",
    "print('Best MAPE = '+str(min((history.history['val_mape']))))"
   ]
  },
  {
   "cell_type": "code",
   "execution_count": 67,
   "metadata": {},
   "outputs": [
    {
     "data": {
      "image/png": "[encoded data removed]",
      "text/plain": [
       "<Figure size 432x288 with 1 Axes>"
      ]
     },
     "metadata": {
      "needs_background": "light"
     },
     "output_type": "display_data"
    }
   ],
   "source": [
    "plt.title('Loss (t+{} hours)'.format(n))\n",
    "plt.plot(history.history['loss'], label='train')\n",
    "plt.plot(history.history['val_loss'], label='test')\n",
    "plt.legend()\n",
    "plt.show()"
   ]
  },
  {
   "cell_type": "code",
   "execution_count": 68,
   "metadata": {},
   "outputs": [
    {
     "name": "stdout",
     "output_type": "stream",
     "text": [
      "Analyzer 2 - Percent:  0\n",
      "------------\n",
      "LONG VALUES\n",
      "correct_long 7036\n",
      "incorrect_short 6805\n",
      "correct_long_percentage 50.83\n",
      "\n",
      "SHORT VALUES\n",
      "correct_short 5910\n",
      "incorrect_long 7238\n",
      "correct_short_percentage 44.95\n",
      "\n",
      "TOTAL\n",
      "total_correct 12946\n",
      "total_incorrect 14043\n",
      "correct_total_percentage 47.97\n",
      "profit_tracker 32380.97\n",
      "\n",
      "########################################################\n",
      "\n",
      "Analyzer 2 - Percent:  1\n",
      "------------\n",
      "LONG VALUES\n",
      "correct_long 130\n",
      "incorrect_short 218\n",
      "correct_long_percentage 37.36\n",
      "\n",
      "SHORT VALUES\n",
      "correct_short 173\n",
      "incorrect_long 130\n",
      "correct_short_percentage 57.1\n",
      "\n",
      "TOTAL\n",
      "total_correct 303\n",
      "total_incorrect 348\n",
      "correct_total_percentage 46.54\n",
      "profit_tracker -8219.07\n",
      "\n",
      "########################################################\n",
      "\n",
      "Analyzer 2 - Percent:  2\n",
      "------------\n",
      "LONG VALUES\n",
      "correct_long 13\n",
      "incorrect_short 22\n",
      "correct_long_percentage 37.14\n",
      "\n",
      "SHORT VALUES\n",
      "correct_short 18\n",
      "incorrect_long 11\n",
      "correct_short_percentage 62.07\n",
      "\n",
      "TOTAL\n",
      "total_correct 31\n",
      "total_incorrect 33\n",
      "correct_total_percentage 48.44\n",
      "profit_tracker -5364.62\n",
      "\n",
      "########################################################\n",
      "\n"
     ]
    }
   ],
   "source": [
    "result_value=[]\n",
    "\n",
    "for n_percent in range(3):\n",
    "    actual_delta = []\n",
    "    predicted_delta = []\n",
    "    correct_long = 0\n",
    "    incorrect_long = 0\n",
    "    correct_short = 0\n",
    "    incorrect_short = 0\n",
    "    profit = []\n",
    "    profit_agg = 0\n",
    "    \n",
    "    for i in range(2, len(actualValues) - 4):\n",
    "        a_delta = (actualValues[i + 1] - actualValues[i]) / actualValues[i + 1]\n",
    "        p_delta = (predictedValues[i + 1] - predictedValues[i]) / predictedValues[i + 1]\n",
    "\n",
    "        if p_delta > 0 and a_delta > 0 and abs(p_delta)*100>n_percent:\n",
    "            correct_long += 1\n",
    "            profits = 10000 * abs(a_delta)\n",
    "            profit.append(profits)\n",
    "            profit_agg += profits\n",
    "\n",
    "        if p_delta > 0 > a_delta and abs(p_delta)*100>n_percent:\n",
    "            incorrect_long += 1\n",
    "            profits = -10000 * abs(a_delta)\n",
    "            profit.append(profits)\n",
    "            profit_agg += profits\n",
    "\n",
    "        if p_delta < 0 and a_delta < 0 and abs(p_delta)*100>n_percent:\n",
    "            correct_short += 1\n",
    "            profits = 10000 * abs(a_delta)\n",
    "            profit.append(profits)\n",
    "            profit_agg += profits\n",
    "\n",
    "        if p_delta < 0 < a_delta and abs(p_delta)*100>n_percent:\n",
    "            incorrect_short += 1\n",
    "            profits = -10000 * abs(a_delta)\n",
    "            profit.append(profits)\n",
    "            profit_agg += profits\n",
    "            \n",
    "    long_p=correct_long/(correct_long+incorrect_short)*100\n",
    "    short_p=correct_short/(correct_short+incorrect_long)*100\n",
    "    total_correct= (correct_long+correct_short)/(correct_long+incorrect_long+correct_short+incorrect_short)*100\n",
    "    print('Analyzer 2 - Percent: ',n_percent)\n",
    "    print(\"------------\")\n",
    "    print('LONG VALUES')\n",
    "    print('correct_long', correct_long)\n",
    "    print('incorrect_short', incorrect_short)\n",
    "    print('correct_long_percentage', round(long_p,2))\n",
    "    print('')\n",
    "    print('SHORT VALUES')\n",
    "    print('correct_short', correct_short)\n",
    "    print('incorrect_long', incorrect_long)\n",
    "    print('correct_short_percentage', round(short_p,2))\n",
    "    print('')\n",
    "    print('TOTAL')\n",
    "    print('total_correct',correct_short+correct_long)\n",
    "    print('total_incorrect',incorrect_long+incorrect_short )\n",
    "    print('correct_total_percentage', round(total_correct,2))\n",
    "    print('profit_tracker', round(profit_agg,2))\n",
    "    print()\n",
    "    print('########################################################')\n",
    "    print()\n",
    "        \n",
    "    st='LONG VALUES\\n\\ncorrect_long: {}\\nincorrect_short: {}\\ncorrect_long_percentage: {}\\n\\nSHORT VALUES\\n\\ncorrect_short: {}\\nincorrect_long: {}\\ncorrect_short_percentage: {}\\n\\nTOTAL\\n\\ntotal_correct: {}\\ntotal_incorrect: {}\\ncorrect_total_percentage: {}\\nprofit_tracker: {}'.format(correct_long,incorrect_short,long_p,correct_short,incorrect_long,short_p,correct_short+correct_long,incorrect_long+incorrect_short,total_correct,profit_agg)\n",
    "    result_value.append(st)"
   ]
  }
 ],
 "metadata": {
  "kernelspec": {
   "display_name": "Python 3",
   "language": "python",
   "name": "python3"
  },
  "language_info": {
   "codemirror_mode": {
    "name": "ipython",
    "version": 3
   },
   "file_extension": ".py",
   "mimetype": "text/x-python",
   "name": "python",
   "nbconvert_exporter": "python",
   "pygments_lexer": "ipython3",
   "version": "3.7.1"
  }
 },
 "nbformat": 4,
 "nbformat_minor": 2
}
