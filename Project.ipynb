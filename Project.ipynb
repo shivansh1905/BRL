{
 "cells": [
  {
   "cell_type": "code",
   "execution_count": 1,
   "metadata": {},
   "outputs": [],
   "source": [
    "import talib\n",
    "from pandas import DataFrame, read_csv, concat\n",
    "from keras.models import Sequential\n",
    "from keras.layers import Dense, Dropout, LSTM, Bidirectional, GRU\n",
    "from keras.callbacks import EarlyStopping,Callback\n",
    "from keras import backend\n",
    "from sklearn.preprocessing import MinMaxScaler\n",
    "from matplotlib import pyplot as plt\n",
    "import numpy as np"
   ]
  },
  {
   "cell_type": "code",
   "execution_count": 2,
   "metadata": {},
   "outputs": [],
   "source": [
    "data = read_csv('btc_hourly.csv', parse_dates = ['timestamp'], usecols = ['timestamp', 'c']).fillna(method='ffill')"
   ]
  },
  {
   "cell_type": "code",
   "execution_count": 4,
   "metadata": {},
   "outputs": [],
   "source": [
    "sma = talib.SMA(data['c'], timeperiod = 5)\n",
    "ema = talib.EMA(data['c'], timeperiod = 5)\n",
    "macd = talib.MACD(data['c'])[0]\n",
    "rsi = talib.RSI(data['c'])\n",
    "mom = talib.MOM(data['c'], timeperiod = 9)\n",
    "y = data['c'][33:]"
   ]
  },
  {
   "cell_type": "code",
   "execution_count": 5,
   "metadata": {},
   "outputs": [],
   "source": [
    "def series_to_supervised(data, n_in=1, n_out=1, dropnan=True):\n",
    "\t\"\"\"\n",
    "\tFrame a time series as a supervised learning dataset.\n",
    "\tArguments:\n",
    "\t\tdata: Sequence of observations as a list or NumPy array.\n",
    "\t\tn_in: Number of lag observations as input (X).\n",
    "\t\tn_out: Number of observations as output (y).\n",
    "\t\tdropnan: Boolean whether or not to drop rows with NaN values.\n",
    "\tReturns:\n",
    "\t\tPandas DataFrame of series framed for supervised learning.\n",
    "\t\"\"\"\n",
    "\tn_vars = 1 if type(data) is list else data.shape[1]\n",
    "\tdf = DataFrame(data)\n",
    "\tcols, names = list(), list()\n",
    "\t# input sequence (t-n, ... t-1)\n",
    "\tfor i in range(n_in, 0, -1):\n",
    "\t\tcols.append(df.shift(i))\n",
    "\t\tnames += [('var%d(t-%d)' % (j+1, i)) for j in range(n_vars)]\n",
    "\t# forecast sequence (t, t+1, ... t+n)\n",
    "\tfor i in range(0, n_out):\n",
    "\t\tcols.append(df.shift(-i))\n",
    "\t\tif i == 0:\n",
    "\t\t\tnames += [('var%d(t)' % (j+1)) for j in range(n_vars)]\n",
    "\t\telse:\n",
    "\t\t\tnames += [('var%d(t+%d)' % (j+1, i)) for j in range(n_vars)]\n",
    "\t# put it all together\n",
    "\tagg = concat(cols, axis=1)\n",
    "\tagg.columns = names\n",
    "\t# drop rows with NaN values\n",
    "\tif dropnan:\n",
    "\t\tagg.dropna(inplace=True)\n",
    "\treturn agg"
   ]
  },
  {
   "cell_type": "code",
   "execution_count": 6,
   "metadata": {},
   "outputs": [],
   "source": [
    "class EarlyStoppingByLossVal(Callback):\n",
    "    def __init__(self, monitor='val_mape', value=1, verbose=0):\n",
    "        super(Callback, self).__init__()\n",
    "        self.monitor = monitor\n",
    "        self.value = value\n",
    "        self.verbose = verbose\n",
    "\n",
    "    def on_epoch_end(self, epoch, logs={}):\n",
    "        current = logs.get(self.monitor)\n",
    "        if current is None:\n",
    "            warnings.warn(\"Early stopping requires %s available!\" % self.monitor, RuntimeWarning)        \n",
    "            \n",
    "        if epoch>5:\n",
    "            if self.verbose > 0:\n",
    "                print(\"Epoch %05d: early stopping THR\" % epoch)\n",
    "            if current < self.value:                \n",
    "                self.model.stop_training = True"
   ]
  },
  {
   "cell_type": "code",
   "execution_count": 8,
   "metadata": {},
   "outputs": [],
   "source": [
    "features = DataFrame()\n",
    "features['sma'] = sma[33:]\n",
    "features['ema'] = ema[33:]\n",
    "features['macd'] = macd[33:]\n",
    "features['rsi'] = rsi[33:]\n",
    "features['mom'] = mom[33:]\n",
    "features['y'] = y"
   ]
  },
  {
   "cell_type": "code",
   "execution_count": 10,
   "metadata": {},
   "outputs": [],
   "source": [
    "n = 1\n",
    "split = int(0.7*(features.shape[0]-n))\n",
    "train_raw = features[:split]\n",
    "test_raw = features[split:]"
   ]
  },
  {
   "cell_type": "code",
   "execution_count": 12,
   "metadata": {},
   "outputs": [],
   "source": [
    "train_scaler = MinMaxScaler(feature_range = (0,1))\n",
    "train_scaler = train_scaler.fit(train_raw)\n",
    "train = train_scaler.fit_transform(train_raw)"
   ]
  },
  {
   "cell_type": "code",
   "execution_count": 13,
   "metadata": {},
   "outputs": [],
   "source": [
    "test_scaler = MinMaxScaler(feature_range = (0,1))\n",
    "test_scaler = test_scaler.fit(test_raw)\n",
    "test = test_scaler.fit_transform(test_raw)"
   ]
  },
  {
   "cell_type": "code",
   "execution_count": 14,
   "metadata": {},
   "outputs": [],
   "source": [
    "train_series = series_to_supervised(train, n, n+1)\n",
    "dropColumns = []\n",
    "for i in range(train.shape[1]-1):\n",
    "    dropColumns.append('var{}(t+{})'.format(i+1,n))\n",
    "train_reframed = train_series.drop(columns=dropColumns)\n",
    "\n",
    "test_series = series_to_supervised(test, n, n+1)\n",
    "dropColumns = []\n",
    "for i in range(test.shape[1]-1):\n",
    "    dropColumns.append('var{}(t+{})'.format(i+1,n))\n",
    "test_reframed = test_series.drop(columns=dropColumns)"
   ]
  },
  {
   "cell_type": "code",
   "execution_count": 15,
   "metadata": {},
   "outputs": [],
   "source": [
    "train_X, test_X = train_reframed.values[:,:-1], test_reframed.values[:,:-1]\n",
    "train_y, test_y = train_reframed.values[:,-1], test_reframed.values[:,-1]\n",
    "#Reshaping input to be 3 dimensions (samples, timesteps, features)\n",
    "train_X = train_X.reshape((train_X.shape[0], 1, train_X.shape[1]))\n",
    "test_X = test_X.reshape((test_X.shape[0], 1, test_X.shape[1]))"
   ]
  },
  {
   "cell_type": "code",
   "execution_count": 59,
   "metadata": {},
   "outputs": [
    {
     "data": {
      "text/plain": [
       "\"model = Sequential()\\nmodel.add(Bidirectional(GRU(32, activation='relu', return_sequences=True, input_shape=(train_X.shape[1], train_X.shape[2]))))\\nmodel.add(LSTM(32, activation='tanh')) \\nmodel.add(Dropout(0.1))\\nmodel.add(Dense(1))\\nbackend.set_epsilon(1)\\nmodel.compile(optimizer='adam', loss='mse', metrics=['mape'])\\ncallbacks = [EarlyStoppingByLossVal(monitor='val_mape', value=0.6, verbose=2)]\""
      ]
     },
     "execution_count": 59,
     "metadata": {},
     "output_type": "execute_result"
    }
   ],
   "source": [
    "#BRL model\n",
    "\"\"\"model = Sequential()\n",
    "model.add(Bidirectional(GRU(32, activation='relu', return_sequences=True, input_shape=(train_X.shape[1], train_X.shape[2]))))\n",
    "model.add(LSTM(32, activation='tanh')) \n",
    "model.add(Dropout(0.1))\n",
    "model.add(Dense(1))\n",
    "backend.set_epsilon(1)\n",
    "model.compile(optimizer='adam', loss='mse', metrics=['mape'])\n",
    "callbacks = [EarlyStoppingByLossVal(monitor='val_mape', value=0.6, verbose=2)]\"\"\""
   ]
  },
  {
   "cell_type": "code",
   "execution_count": 20,
   "metadata": {},
   "outputs": [
    {
     "name": "stdout",
     "output_type": "stream",
     "text": [
      "Epoch 1/50\n",
      "41/41 - 2s - loss: 0.0095 - mape: 4.5019 - val_loss: 0.0251 - val_mape: 12.8623\n",
      "Epoch 2/50\n",
      "41/41 - 0s - loss: 0.0129 - mape: 8.4870 - val_loss: 0.0218 - val_mape: 12.3775\n",
      "Epoch 3/50\n",
      "41/41 - 0s - loss: 0.0058 - mape: 5.3985 - val_loss: 0.0118 - val_mape: 9.1620\n",
      "Epoch 4/50\n",
      "41/41 - 0s - loss: 0.0030 - mape: 4.0838 - val_loss: 0.0052 - val_mape: 6.1297\n",
      "Epoch 5/50\n",
      "41/41 - 0s - loss: 0.0012 - mape: 2.7190 - val_loss: 0.0016 - val_mape: 3.4436\n",
      "Epoch 6/50\n",
      "41/41 - 0s - loss: 3.7150e-04 - mape: 1.6210 - val_loss: 3.0834e-04 - val_mape: 1.5687\n",
      "Epoch 7/50\n",
      "41/41 - 0s - loss: 1.1855e-04 - mape: 0.9484 - val_loss: 8.5131e-05 - val_mape: 0.7535\n",
      "Epoch 8/50\n",
      "41/41 - 0s - loss: 6.8892e-05 - mape: 0.7141 - val_loss: 6.2176e-05 - val_mape: 0.5884\n",
      "Epoch 9/50\n",
      "41/41 - 0s - loss: 6.4357e-05 - mape: 0.6802 - val_loss: 5.7688e-05 - val_mape: 0.5502\n",
      "Epoch 10/50\n",
      "41/41 - 0s - loss: 6.5496e-05 - mape: 0.6813 - val_loss: 5.4977e-05 - val_mape: 0.5250\n",
      "Epoch 11/50\n",
      "41/41 - 0s - loss: 6.5053e-05 - mape: 0.6724 - val_loss: 5.2889e-05 - val_mape: 0.5030\n",
      "Epoch 12/50\n",
      "41/41 - 0s - loss: 6.3663e-05 - mape: 0.6568 - val_loss: 5.1453e-05 - val_mape: 0.4858\n",
      "Epoch 13/50\n",
      "41/41 - 0s - loss: 6.2034e-05 - mape: 0.6388 - val_loss: 5.0554e-05 - val_mape: 0.4737\n",
      "Epoch 14/50\n",
      "41/41 - 0s - loss: 6.0205e-05 - mape: 0.6188 - val_loss: 5.0044e-05 - val_mape: 0.4660\n",
      "Epoch 15/50\n",
      "41/41 - 0s - loss: 5.8155e-05 - mape: 0.5971 - val_loss: 4.9792e-05 - val_mape: 0.4617\n",
      "Epoch 16/50\n",
      "41/41 - 0s - loss: 5.5920e-05 - mape: 0.5744 - val_loss: 4.9680e-05 - val_mape: 0.4597\n",
      "Epoch 17/50\n",
      "41/41 - 0s - loss: 5.3542e-05 - mape: 0.5523 - val_loss: 4.9616e-05 - val_mape: 0.4592\n",
      "Epoch 18/50\n",
      "41/41 - 0s - loss: 5.1064e-05 - mape: 0.5322 - val_loss: 4.9533e-05 - val_mape: 0.4593\n",
      "Epoch 19/50\n",
      "41/41 - 0s - loss: 4.8529e-05 - mape: 0.5152 - val_loss: 4.9393e-05 - val_mape: 0.4593\n",
      "Epoch 20/50\n",
      "41/41 - 0s - loss: 4.5979e-05 - mape: 0.5013 - val_loss: 4.9180e-05 - val_mape: 0.4587\n",
      "Epoch 21/50\n",
      "41/41 - 0s - loss: 4.3456e-05 - mape: 0.4893 - val_loss: 4.8897e-05 - val_mape: 0.4575\n",
      "Epoch 22/50\n",
      "41/41 - 0s - loss: 4.0995e-05 - mape: 0.4784 - val_loss: 4.8564e-05 - val_mape: 0.4558\n",
      "Epoch 23/50\n",
      "41/41 - 0s - loss: 3.8629e-05 - mape: 0.4677 - val_loss: 4.8202e-05 - val_mape: 0.4537\n",
      "Epoch 24/50\n",
      "41/41 - 0s - loss: 3.6382e-05 - mape: 0.4571 - val_loss: 4.7840e-05 - val_mape: 0.4517\n",
      "Epoch 25/50\n",
      "41/41 - 0s - loss: 3.4275e-05 - mape: 0.4465 - val_loss: 4.7498e-05 - val_mape: 0.4498\n",
      "Epoch 26/50\n",
      "41/41 - 0s - loss: 3.2320e-05 - mape: 0.4359 - val_loss: 4.7196e-05 - val_mape: 0.4483\n",
      "Epoch 27/50\n",
      "41/41 - 0s - loss: 3.0521e-05 - mape: 0.4252 - val_loss: 4.6946e-05 - val_mape: 0.4472\n",
      "Epoch 28/50\n",
      "41/41 - 0s - loss: 2.8879e-05 - mape: 0.4147 - val_loss: 4.6753e-05 - val_mape: 0.4466\n",
      "Epoch 29/50\n",
      "41/41 - 0s - loss: 2.7390e-05 - mape: 0.4045 - val_loss: 4.6617e-05 - val_mape: 0.4464\n",
      "Epoch 30/50\n",
      "41/41 - 0s - loss: 2.6047e-05 - mape: 0.3946 - val_loss: 4.6536e-05 - val_mape: 0.4467\n",
      "Epoch 31/50\n",
      "41/41 - 0s - loss: 2.4839e-05 - mape: 0.3852 - val_loss: 4.6503e-05 - val_mape: 0.4473\n",
      "Epoch 32/50\n",
      "41/41 - 0s - loss: 2.3755e-05 - mape: 0.3764 - val_loss: 4.6510e-05 - val_mape: 0.4481\n",
      "Epoch 33/50\n",
      "41/41 - 0s - loss: 2.2783e-05 - mape: 0.3681 - val_loss: 4.6548e-05 - val_mape: 0.4491\n",
      "Epoch 34/50\n",
      "41/41 - 0s - loss: 2.1913e-05 - mape: 0.3604 - val_loss: 4.6609e-05 - val_mape: 0.4501\n",
      "Epoch 35/50\n",
      "41/41 - 0s - loss: 2.1132e-05 - mape: 0.3532 - val_loss: 4.6686e-05 - val_mape: 0.4512\n",
      "Epoch 36/50\n",
      "41/41 - 0s - loss: 2.0431e-05 - mape: 0.3465 - val_loss: 4.6770e-05 - val_mape: 0.4522\n",
      "Epoch 37/50\n",
      "41/41 - 0s - loss: 1.9800e-05 - mape: 0.3404 - val_loss: 4.6856e-05 - val_mape: 0.4532\n",
      "Epoch 38/50\n",
      "41/41 - 0s - loss: 1.9232e-05 - mape: 0.3348 - val_loss: 4.6939e-05 - val_mape: 0.4540\n",
      "Epoch 39/50\n",
      "41/41 - 0s - loss: 1.8718e-05 - mape: 0.3297 - val_loss: 4.7015e-05 - val_mape: 0.4546\n",
      "Epoch 40/50\n",
      "41/41 - 0s - loss: 1.8251e-05 - mape: 0.3250 - val_loss: 4.7081e-05 - val_mape: 0.4551\n",
      "Epoch 41/50\n",
      "41/41 - 0s - loss: 1.7828e-05 - mape: 0.3206 - val_loss: 4.7134e-05 - val_mape: 0.4554\n",
      "Epoch 42/50\n",
      "41/41 - 0s - loss: 1.7441e-05 - mape: 0.3167 - val_loss: 4.7174e-05 - val_mape: 0.4554\n",
      "Epoch 43/50\n",
      "41/41 - 0s - loss: 1.7088e-05 - mape: 0.3130 - val_loss: 4.7202e-05 - val_mape: 0.4553\n",
      "Epoch 44/50\n",
      "41/41 - 0s - loss: 1.6763e-05 - mape: 0.3095 - val_loss: 4.7216e-05 - val_mape: 0.4550\n",
      "Epoch 45/50\n",
      "41/41 - 0s - loss: 1.6466e-05 - mape: 0.3064 - val_loss: 4.7221e-05 - val_mape: 0.4546\n",
      "Epoch 46/50\n",
      "41/41 - 0s - loss: 1.6191e-05 - mape: 0.3033 - val_loss: 4.7214e-05 - val_mape: 0.4539\n",
      "Epoch 47/50\n",
      "41/41 - 0s - loss: 1.5939e-05 - mape: 0.3005 - val_loss: 4.7206e-05 - val_mape: 0.4532\n",
      "Epoch 48/50\n",
      "41/41 - 0s - loss: 1.5702e-05 - mape: 0.2978 - val_loss: 4.7187e-05 - val_mape: 0.4523\n",
      "Epoch 49/50\n",
      "41/41 - 0s - loss: 1.5491e-05 - mape: 0.2953 - val_loss: 4.7180e-05 - val_mape: 0.4515\n",
      "Epoch 50/50\n",
      "41/41 - 0s - loss: 1.5284e-05 - mape: 0.2928 - val_loss: 4.7160e-05 - val_mape: 0.4504\n"
     ]
    }
   ],
   "source": [
    "history = model.fit(train_X, train_y, epochs = 50, batch_size = train_X.shape[0]//40, validation_data=(test_X, test_y), verbose = 2, shuffle = False)#, callbacks=  callbacks)"
   ]
  },
  {
   "cell_type": "code",
   "execution_count": 19,
   "metadata": {},
   "outputs": [],
   "source": [
    "#Cocco et al. (2021) model\n",
    "model = Sequential()\n",
    "model.add(LSTM(16, input_shape=(train_X.shape[1], train_X.shape[2])))\n",
    "model.add(Dense(1))\n",
    "backend.set_epsilon(1)\n",
    "model.compile(loss='mse', optimizer='adam', metrics=['mape'])\n",
    "callbacks = [EarlyStoppingByLossVal(monitor='val_mape', value=0.6, verbose=2)]"
   ]
  },
  {
   "cell_type": "code",
   "execution_count": 21,
   "metadata": {},
   "outputs": [],
   "source": [
    "model_prediction = model.predict(test_X)\n",
    "actualValues = np.array(y[-len(model_prediction):]).reshape(-1,1)\n",
    "scalerCrypto = MinMaxScaler(feature_range = (0,1))\n",
    "scalerCrypto = scalerCrypto.fit(actualValues)\n",
    "scaledCrypto = scalerCrypto.fit_transform(actualValues)\n",
    "model_prediction_unscale = scalerCrypto.inverse_transform(model_prediction)\n",
    "predictedValues = np.reshape(model_prediction_unscale, model_prediction_unscale.shape[0])\n",
    "actualValues = np.reshape(actualValues, actualValues.shape[0])"
   ]
  },
  {
   "cell_type": "code",
   "execution_count": 22,
   "metadata": {},
   "outputs": [
    {
     "data": {
      "image/png": "[encoded data removed]",
      "text/plain": [
       "<Figure size 432x288 with 1 Axes>"
      ]
     },
     "metadata": {
      "needs_background": "light"
     },
     "output_type": "display_data"
    }
   ],
   "source": [
    "frm=-50\n",
    "plt.plot(actualValues[frm:], color = 'red', label = 'Actual Value')\n",
    "plt.plot(predictedValues[frm:], color = 'blue', label = 'Predicted Value') \n",
    "plt.title('Last {} Hours Prediction (t+{} hours)'.format(-frm, n))\n",
    "plt.xlabel('Time Interval (hours)')\n",
    "plt.ylabel('Price')\n",
    "plt.legend()\n",
    "plt.show()"
   ]
  },
  {
   "cell_type": "code",
   "execution_count": 23,
   "metadata": {},
   "outputs": [
    {
     "data": {
      "image/png": "[encoded data removed]",
      "text/plain": [
       "<Figure size 432x288 with 1 Axes>"
      ]
     },
     "metadata": {
      "needs_background": "light"
     },
     "output_type": "display_data"
    }
   ],
   "source": [
    "plt.plot(actualValues, color = 'red', label = 'Actual Value')\n",
    "plt.plot(predictedValues, color = 'blue', label = 'Predicted Value')\n",
    "plt.title('Prediction (t+{} hours)'.format(n))\n",
    "plt.xlabel('Time Interval (hours)')\n",
    "plt.ylabel('Price')\n",
    "plt.legend()\n",
    "plt.show()"
   ]
  },
  {
   "cell_type": "code",
   "execution_count": 24,
   "metadata": {},
   "outputs": [
    {
     "data": {
      "image/png": "[encoded data removed]",
      "text/plain": [
       "<Figure size 432x288 with 1 Axes>"
      ]
     },
     "metadata": {
      "needs_background": "light"
     },
     "output_type": "display_data"
    },
    {
     "name": "stdout",
     "output_type": "stream",
     "text": [
      "Best MAPE = 0.4464279115200043\n"
     ]
    }
   ],
   "source": [
    "plt.title('MAPE (t+{} hours)'.format(n))\n",
    "plt.plot(history.history['mape'], label='train')\n",
    "plt.plot(history.history['val_mape'], label='test')\n",
    "plt.scatter(np.argmin(history.history['val_mape']), min(history.history['val_mape']), color = 'r')\n",
    "plt.legend()\n",
    "plt.show()\n",
    "print('Best MAPE = '+str(min((history.history['val_mape']))))"
   ]
  },
  {
   "cell_type": "code",
   "execution_count": 25,
   "metadata": {},
   "outputs": [
    {
     "data": {
      "image/png": "[encoded data removed]",
      "text/plain": [
       "<Figure size 432x288 with 1 Axes>"
      ]
     },
     "metadata": {
      "needs_background": "light"
     },
     "output_type": "display_data"
    }
   ],
   "source": [
    "plt.title('Loss (t+{} hours)'.format(n))\n",
    "plt.plot(history.history['loss'], label='train')\n",
    "plt.plot(history.history['val_loss'], label='test')\n",
    "plt.legend()\n",
    "plt.show()"
   ]
  },
  {
   "cell_type": "code",
   "execution_count": 26,
   "metadata": {},
   "outputs": [
    {
     "name": "stdout",
     "output_type": "stream",
     "text": [
      "Analyzer 2 - Percent:  0\n",
      "------------\n",
      "LONG VALUES\n",
      "correct_long 6880\n",
      "incorrect_short 6962\n",
      "correct_long_percentage 49.7\n",
      "\n",
      "SHORT VALUES\n",
      "correct_short 5893\n",
      "incorrect_long 7255\n",
      "correct_short_percentage 44.82\n",
      "\n",
      "TOTAL\n",
      "total_correct 12773\n",
      "total_incorrect 14217\n",
      "correct_total_percentage 47.32\n",
      "profit_tracker 13070.84\n",
      "\n",
      "########################################################\n",
      "\n",
      "Analyzer 2 - Percent:  1\n",
      "------------\n",
      "LONG VALUES\n",
      "correct_long 390\n",
      "incorrect_short 528\n",
      "correct_long_percentage 42.48\n",
      "\n",
      "SHORT VALUES\n",
      "correct_short 492\n",
      "incorrect_long 398\n",
      "correct_short_percentage 55.28\n",
      "\n",
      "TOTAL\n",
      "total_correct 882\n",
      "total_incorrect 926\n",
      "correct_total_percentage 48.78\n",
      "profit_tracker -8395.03\n",
      "\n",
      "########################################################\n",
      "\n",
      "Analyzer 2 - Percent:  2\n",
      "------------\n",
      "LONG VALUES\n",
      "correct_long 52\n",
      "incorrect_short 91\n",
      "correct_long_percentage 36.36\n",
      "\n",
      "SHORT VALUES\n",
      "correct_short 79\n",
      "incorrect_long 54\n",
      "correct_short_percentage 59.4\n",
      "\n",
      "TOTAL\n",
      "total_correct 131\n",
      "total_incorrect 145\n",
      "correct_total_percentage 47.46\n",
      "profit_tracker -8615.03\n",
      "\n",
      "########################################################\n",
      "\n"
     ]
    }
   ],
   "source": [
    "result_value=[]\n",
    "\n",
    "for n_percent in range(3):\n",
    "    actual_delta = []\n",
    "    predicted_delta = []\n",
    "    correct_long = 0\n",
    "    incorrect_long = 0\n",
    "    correct_short = 0\n",
    "    incorrect_short = 0\n",
    "    profit = []\n",
    "    profit_agg = 0\n",
    "    \n",
    "    for i in range(2, len(actualValues) - 4):\n",
    "        a_delta = (actualValues[i + 1] - actualValues[i]) / actualValues[i + 1]\n",
    "        p_delta = (predictedValues[i + 1] - predictedValues[i]) / predictedValues[i + 1]\n",
    "\n",
    "        if p_delta > 0 and a_delta > 0 and abs(p_delta)*100>n_percent:\n",
    "            correct_long += 1\n",
    "            profits = 10000 * abs(a_delta)\n",
    "            profit.append(profits)\n",
    "            profit_agg += profits\n",
    "\n",
    "        if p_delta > 0 > a_delta and abs(p_delta)*100>n_percent:\n",
    "            incorrect_long += 1\n",
    "            profits = -10000 * abs(a_delta)\n",
    "            profit.append(profits)\n",
    "            profit_agg += profits\n",
    "\n",
    "        if p_delta < 0 and a_delta < 0 and abs(p_delta)*100>n_percent:\n",
    "            correct_short += 1\n",
    "            profits = 10000 * abs(a_delta)\n",
    "            profit.append(profits)\n",
    "            profit_agg += profits\n",
    "\n",
    "        if p_delta < 0 < a_delta and abs(p_delta)*100>n_percent:\n",
    "            incorrect_short += 1\n",
    "            profits = -10000 * abs(a_delta)\n",
    "            profit.append(profits)\n",
    "            profit_agg += profits\n",
    "            \n",
    "    long_p=correct_long/(correct_long+incorrect_short)*100\n",
    "    short_p=correct_short/(correct_short+incorrect_long)*100\n",
    "    total_correct= (correct_long+correct_short)/(correct_long+incorrect_long+correct_short+incorrect_short)*100\n",
    "    print('Analyzer 2 - Percent: ',n_percent)\n",
    "    print(\"------------\")\n",
    "    print('LONG VALUES')\n",
    "    print('correct_long', correct_long)\n",
    "    print('incorrect_short', incorrect_short)\n",
    "    print('correct_long_percentage', round(long_p,2))\n",
    "    print('')\n",
    "    print('SHORT VALUES')\n",
    "    print('correct_short', correct_short)\n",
    "    print('incorrect_long', incorrect_long)\n",
    "    print('correct_short_percentage', round(short_p,2))\n",
    "    print('')\n",
    "    print('TOTAL')\n",
    "    print('total_correct',correct_short+correct_long)\n",
    "    print('total_incorrect',incorrect_long+incorrect_short )\n",
    "    print('correct_total_percentage', round(total_correct,2))\n",
    "    print('profit_tracker', round(profit_agg,2))\n",
    "    print()\n",
    "    print('########################################################')\n",
    "    print()\n",
    "        \n",
    "    st='LONG VALUES\\n\\ncorrect_long: {}\\nincorrect_short: {}\\ncorrect_long_percentage: {}\\n\\nSHORT VALUES\\n\\ncorrect_short: {}\\nincorrect_long: {}\\ncorrect_short_percentage: {}\\n\\nTOTAL\\n\\ntotal_correct: {}\\ntotal_incorrect: {}\\ncorrect_total_percentage: {}\\nprofit_tracker: {}'.format(correct_long,incorrect_short,long_p,correct_short,incorrect_long,short_p,correct_short+correct_long,incorrect_long+incorrect_short,total_correct,profit_agg)\n",
    "    result_value.append(st)"
   ]
  }
 ],
 "metadata": {
  "kernelspec": {
   "display_name": "Python 3",
   "language": "python",
   "name": "python3"
  },
  "language_info": {
   "codemirror_mode": {
    "name": "ipython",
    "version": 3
   },
   "file_extension": ".py",
   "mimetype": "text/x-python",
   "name": "python",
   "nbconvert_exporter": "python",
   "pygments_lexer": "ipython3",
   "version": "3.7.1"
  }
 },
 "nbformat": 4,
 "nbformat_minor": 2
}
